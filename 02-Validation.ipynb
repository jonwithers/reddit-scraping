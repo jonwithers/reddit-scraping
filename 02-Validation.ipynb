{
 "cells": [
  {
   "cell_type": "code",
   "execution_count": 1,
   "metadata": {},
   "outputs": [],
   "source": [
    "import pandas as pd\n",
    "import numpy as np\n",
    "import seaborn as sns\n",
    "import matplotlib.pyplot as plt\n",
    "from sklearn.feature_extraction.text import TfidfVectorizer, CountVectorizer\n",
    "from sklearn.model_selection import train_test_split, GridSearchCV\n",
    "from sklearn.linear_model import LogisticRegression\n",
    "from sklearn.ensemble import AdaBoostClassifier, GradientBoostingClassifier, VotingClassifier, RandomForestClassifier\n",
    "from sklearn.tree import DecisionTreeClassifier\n",
    "\n",
    "%matplotlib inline"
   ]
  },
  {
   "cell_type": "code",
   "execution_count": 4,
   "metadata": {},
   "outputs": [],
   "source": [
    "bpt_df = pd.read_csv('BPT_june2.csv', index_col=0)\n",
    "wpt_df = pd.read_csv('Wpt_250_june2.csv', index_col=0)\n",
    "\n",
    "bpt_df['class'] = 0\n",
    "wpt_df['class'] = 1\n",
    "\n",
    "validation_df = pd.concat([bpt_df, wpt_df])"
   ]
  },
  {
   "cell_type": "code",
   "execution_count": 6,
   "metadata": {},
   "outputs": [],
   "source": [
    "validation_df['time_on_reddit'] = validation_df['current_time'] - validation_df['created_utc']"
   ]
  },
  {
   "cell_type": "code",
   "execution_count": 8,
   "metadata": {},
   "outputs": [],
   "source": [
    "validation_df['total_text'] = validation_df['body'] + ' ' + validation_df['post_title']"
   ]
  },
  {
   "cell_type": "code",
   "execution_count": 9,
   "metadata": {},
   "outputs": [],
   "source": [
    "validation_df['length_of_text'] = validation_df['total_text'].map(lambda x: len(x))"
   ]
  },
  {
   "cell_type": "code",
   "execution_count": 11,
   "metadata": {},
   "outputs": [],
   "source": [
    "validation_df = validation_df[['comments_this_post', 'ups', 'time_on_reddit', 'total_text', 'class','length_of_text']]"
   ]
  },
  {
   "cell_type": "code",
   "execution_count": 12,
   "metadata": {},
   "outputs": [
    {
     "data": {
      "text/html": [
       "<div>\n",
       "<style scoped>\n",
       "    .dataframe tbody tr th:only-of-type {\n",
       "        vertical-align: middle;\n",
       "    }\n",
       "\n",
       "    .dataframe tbody tr th {\n",
       "        vertical-align: top;\n",
       "    }\n",
       "\n",
       "    .dataframe thead th {\n",
       "        text-align: right;\n",
       "    }\n",
       "</style>\n",
       "<table border=\"1\" class=\"dataframe\">\n",
       "  <thead>\n",
       "    <tr style=\"text-align: right;\">\n",
       "      <th></th>\n",
       "      <th>comments_this_post</th>\n",
       "      <th>ups</th>\n",
       "      <th>time_on_reddit</th>\n",
       "      <th>total_text</th>\n",
       "      <th>class</th>\n",
       "      <th>length_of_text</th>\n",
       "    </tr>\n",
       "  </thead>\n",
       "  <tbody>\n",
       "    <tr>\n",
       "      <th>0</th>\n",
       "      <td>89</td>\n",
       "      <td>297</td>\n",
       "      <td>27700.267567</td>\n",
       "      <td>Translation: Pusha killed the man. This is ove...</td>\n",
       "      <td>0</td>\n",
       "      <td>102</td>\n",
       "    </tr>\n",
       "    <tr>\n",
       "      <th>1</th>\n",
       "      <td>529</td>\n",
       "      <td>4457</td>\n",
       "      <td>45995.772250</td>\n",
       "      <td>That and pay off my student loans \\n\\nGods pla...</td>\n",
       "      <td>0</td>\n",
       "      <td>58</td>\n",
       "    </tr>\n",
       "    <tr>\n",
       "      <th>2</th>\n",
       "      <td>38</td>\n",
       "      <td>92</td>\n",
       "      <td>7858.814043</td>\n",
       "      <td>Brooo never forget Cyberchase Quality Educatio...</td>\n",
       "      <td>0</td>\n",
       "      <td>61</td>\n",
       "    </tr>\n",
       "    <tr>\n",
       "      <th>3</th>\n",
       "      <td>25</td>\n",
       "      <td>133</td>\n",
       "      <td>38519.551361</td>\n",
       "      <td>Make sure your opponent sees it and you can ro...</td>\n",
       "      <td>0</td>\n",
       "      <td>97</td>\n",
       "    </tr>\n",
       "    <tr>\n",
       "      <th>4</th>\n",
       "      <td>2506</td>\n",
       "      <td>31446</td>\n",
       "      <td>62430.822029</td>\n",
       "      <td>Because he wasn't in blackface, his character ...</td>\n",
       "      <td>0</td>\n",
       "      <td>130</td>\n",
       "    </tr>\n",
       "  </tbody>\n",
       "</table>\n",
       "</div>"
      ],
      "text/plain": [
       "   comments_this_post    ups  time_on_reddit  \\\n",
       "0                  89    297    27700.267567   \n",
       "1                 529   4457    45995.772250   \n",
       "2                  38     92     7858.814043   \n",
       "3                  25    133    38519.551361   \n",
       "4                2506  31446    62430.822029   \n",
       "\n",
       "                                          total_text  class  length_of_text  \n",
       "0  Translation: Pusha killed the man. This is ove...      0             102  \n",
       "1  That and pay off my student loans \\n\\nGods pla...      0              58  \n",
       "2  Brooo never forget Cyberchase Quality Educatio...      0              61  \n",
       "3  Make sure your opponent sees it and you can ro...      0              97  \n",
       "4  Because he wasn't in blackface, his character ...      0             130  "
      ]
     },
     "execution_count": 12,
     "metadata": {},
     "output_type": "execute_result"
    }
   ],
   "source": [
    "validation_df.head()"
   ]
  },
  {
   "cell_type": "code",
   "execution_count": null,
   "metadata": {},
   "outputs": [],
   "source": []
  }
 ],
 "metadata": {
  "kernelspec": {
   "display_name": "Python [conda root]",
   "language": "python",
   "name": "conda-root-py"
  },
  "language_info": {
   "codemirror_mode": {
    "name": "ipython",
    "version": 3
   },
   "file_extension": ".py",
   "mimetype": "text/x-python",
   "name": "python",
   "nbconvert_exporter": "python",
   "pygments_lexer": "ipython3",
   "version": "3.6.4"
  }
 },
 "nbformat": 4,
 "nbformat_minor": 2
}
